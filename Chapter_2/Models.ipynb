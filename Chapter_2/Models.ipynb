{
 "cells": [
  {
   "cell_type": "code",
   "execution_count": null,
   "id": "9fc4f043-07c3-4492-bb40-537516a7018c",
   "metadata": {},
   "outputs": [],
   "source": [
    "!pip install -q --upgrade transformers torch torchvision torchaudio\n",
    "!pip install -q tokenizers==0.13.3\n",
    "!pip install -q bitsandbytes transformers accelerate gradio thread6"
   ]
  },
  {
   "cell_type": "code",
   "execution_count": null,
   "id": "6c84192b-775a-4085-8224-f0bfd7877fa2",
   "metadata": {},
   "outputs": [],
   "source": [
    "# if you know the type of model you want to use, you can use the class that defines its architecture directly. Let’s take a look at how this works with a BERT model."
   ]
  },
  {
   "cell_type": "code",
   "execution_count": 5,
   "id": "5147b7e0-8f84-4c07-a0ea-50d9bb42bbb7",
   "metadata": {},
   "outputs": [],
   "source": [
    "from transformers import BertConfig, BertModel, AutoModel"
   ]
  },
  {
   "cell_type": "code",
   "execution_count": 2,
   "id": "60d4ef63-d79a-49bb-9c74-099db1341ae4",
   "metadata": {},
   "outputs": [],
   "source": [
    "# Building the config\n",
    "config = BertConfig()\n",
    "\n",
    "# Building the model from the config\n",
    "model = BertModel(config)"
   ]
  },
  {
   "cell_type": "code",
   "execution_count": 3,
   "id": "65d9db48-7125-4d0e-8c0e-4e0d11277651",
   "metadata": {},
   "outputs": [
    {
     "data": {
      "text/plain": [
       "BertConfig {\n",
       "  \"attention_probs_dropout_prob\": 0.1,\n",
       "  \"classifier_dropout\": null,\n",
       "  \"hidden_act\": \"gelu\",\n",
       "  \"hidden_dropout_prob\": 0.1,\n",
       "  \"hidden_size\": 768,\n",
       "  \"initializer_range\": 0.02,\n",
       "  \"intermediate_size\": 3072,\n",
       "  \"layer_norm_eps\": 1e-12,\n",
       "  \"max_position_embeddings\": 512,\n",
       "  \"model_type\": \"bert\",\n",
       "  \"num_attention_heads\": 12,\n",
       "  \"num_hidden_layers\": 12,\n",
       "  \"pad_token_id\": 0,\n",
       "  \"position_embedding_type\": \"absolute\",\n",
       "  \"transformers_version\": \"4.33.1\",\n",
       "  \"type_vocab_size\": 2,\n",
       "  \"use_cache\": true,\n",
       "  \"vocab_size\": 30522\n",
       "}"
      ]
     },
     "execution_count": 3,
     "metadata": {},
     "output_type": "execute_result"
    }
   ],
   "source": [
    "# The 'BertConfig' contains many attributes that are used to build the model\n",
    "config"
   ]
  },
  {
   "cell_type": "markdown",
   "id": "9ab289f6-25a0-4520-85a0-efb4792757a7",
   "metadata": {},
   "source": [
    "The model as it is above is not pretrained. It can be used in this state but it will ouput gibberish. This is why we use the 'from_pretrained' method\n",
    "\n",
    "## Definitions\n",
    "#### \"hidden_size\": Defines the size of the \"hidden_states\" vector\n",
    "\n",
    "#### \"num_hidden_layers\": Defines the number of layers the Transformer model has"
   ]
  },
  {
   "cell_type": "code",
   "execution_count": 6,
   "id": "30cda54e-60b6-4011-9227-024a32a68066",
   "metadata": {},
   "outputs": [
    {
     "data": {
      "application/vnd.jupyter.widget-view+json": {
       "model_id": "6850ef3531aa46cfbd0295de20e7fd03",
       "version_major": 2,
       "version_minor": 0
      },
      "text/plain": [
       "Downloading (…)lve/main/config.json:   0%|          | 0.00/570 [00:00<?, ?B/s]"
      ]
     },
     "metadata": {},
     "output_type": "display_data"
    },
    {
     "data": {
      "application/vnd.jupyter.widget-view+json": {
       "model_id": "7198d76adefd4dd2a2d76a86fa39d517",
       "version_major": 2,
       "version_minor": 0
      },
      "text/plain": [
       "Downloading model.safetensors:   0%|          | 0.00/436M [00:00<?, ?B/s]"
      ]
     },
     "metadata": {},
     "output_type": "display_data"
    }
   ],
   "source": [
    "# Loading a pretrained model. NOTE: This overwrites the above 'model' variable\n",
    "#model = BertModel.from_pretrained(\"bert-base-cased\")\n",
    "\n",
    "# NOTE AGAIN: we could and SHOULD have used the AutoModel class but for the sake of the example, we used the BertModel class. please use AutoModel\n",
    "model = AutoModel.from_pretrained(\"bert-base-cased\")\n",
    "\n",
    "# NOTE FOR A THIRD TIME: we didn't use the bertconfig since it would have loaded a blank model which is useless unless you want to train it for research\n",
    "\n",
    "# NOTE A 4TH TIME: The identifier used to load the model can be the identifier of any model on the Model Hub, as long as it is compatible with the BERT architecture."
   ]
  },
  {
   "cell_type": "code",
   "execution_count": 10,
   "id": "7d024e50-d6a8-495a-838c-464f7c3e8e27",
   "metadata": {},
   "outputs": [],
   "source": [
    "# we can save a pretrained model (or finetuned) with the save_pretrained() method \n",
    "# The argument is the path you want to save it to\n",
    "model.save_pretrained(\"/notebooks/NLP_huggingface/Chapter_2\")\n",
    "\n",
    "# The above saves 2 files to the directory you chose, a 'bin' file and a 'json' file"
   ]
  },
  {
   "cell_type": "markdown",
   "id": "84d6e77a-e2cf-4505-beff-a0c46dd28539",
   "metadata": {},
   "source": [
    "##### Transformers models can only process numbers, numbers that the tokenizer generates.\n",
    "\n",
    "##### Let's see how that's done below V"
   ]
  },
  {
   "cell_type": "code",
   "execution_count": 2,
   "id": "7028aff1-e3e0-4f99-b8fb-b5c6f5f69328",
   "metadata": {},
   "outputs": [],
   "source": [
    "# This is how we input words into the models tokenizer\n",
    "sequences = [\"Hello!\", \"Cool.\", \"Nice!\"]\n",
    "\n",
    "# This is how the model's tokenizer transforms the above words\n",
    "encoded_sequences = [\n",
    "    [101, 7592, 999, 102],\n",
    "    [101, 4658, 1012, 102],\n",
    "    [101, 3835, 999, 102],\n",
    "]"
   ]
  },
  {
   "cell_type": "markdown",
   "id": "7e2778f0-2591-4507-99cc-9ebfd723e15a",
   "metadata": {},
   "source": [
    "##### The tokenizer converts the words, which are typically called \"input ID's\" \n",
    "\n",
    "##### The above is a list of encoded sequences, also called a list of lists. Tensors only accept rectangular shapes(think matrices) so we can easily\n",
    "##### convert the above into a tensor since it's already rectangular shaped"
   ]
  },
  {
   "cell_type": "code",
   "execution_count": 3,
   "id": "4ae2982f-125e-429c-b206-4bd7fe1d9063",
   "metadata": {},
   "outputs": [],
   "source": [
    "import torch\n",
    "\n",
    "# We're converting the above list of lists into a tensor\n",
    "model_inputs = torch.tensor(encoded_sequences)"
   ]
  },
  {
   "cell_type": "code",
   "execution_count": 8,
   "id": "7d76bf53-ef62-4cbd-9cd8-f8e3bca97682",
   "metadata": {},
   "outputs": [
    {
     "data": {
      "text/plain": [
       "BaseModelOutputWithPoolingAndCrossAttentions(last_hidden_state=tensor([[[ 4.4496e-01,  4.8276e-01,  2.7797e-01,  ..., -5.4032e-02,\n",
       "           3.9394e-01, -9.4770e-02],\n",
       "         [ 2.4943e-01, -4.4093e-01,  8.1772e-01,  ..., -3.1917e-01,\n",
       "           2.2992e-01, -4.1172e-02],\n",
       "         [ 1.3668e-01,  2.2518e-01,  1.4502e-01,  ..., -4.6915e-02,\n",
       "           2.8224e-01,  7.5566e-02],\n",
       "         [ 1.1789e+00,  1.6738e-01, -1.8187e-01,  ...,  2.4671e-01,\n",
       "           1.0441e+00, -6.1970e-03]],\n",
       "\n",
       "        [[ 3.6436e-01,  3.2464e-02,  2.0258e-01,  ...,  6.0111e-02,\n",
       "           3.2451e-01, -2.0995e-02],\n",
       "         [ 7.1866e-01, -4.8725e-01,  5.1740e-01,  ..., -4.4012e-01,\n",
       "           1.4553e-01, -3.7545e-02],\n",
       "         [ 3.3223e-01, -2.3271e-01,  9.4877e-02,  ..., -2.5268e-01,\n",
       "           3.2172e-01,  8.1079e-04],\n",
       "         [ 1.2523e+00,  3.5754e-01, -5.1320e-02,  ..., -3.7840e-01,\n",
       "           1.0526e+00, -5.6255e-01]],\n",
       "\n",
       "        [[ 2.4042e-01,  1.4718e-01,  1.2110e-01,  ...,  7.6062e-02,\n",
       "           3.3564e-01,  2.8262e-01],\n",
       "         [ 6.5701e-01, -3.2787e-01,  2.4968e-01,  ..., -2.5920e-01,\n",
       "           2.0175e-01,  3.3275e-01],\n",
       "         [ 2.0160e-01,  1.5783e-01,  9.8974e-03,  ..., -3.8850e-01,\n",
       "           4.1308e-01,  3.9732e-01],\n",
       "         [ 1.0175e+00,  6.4387e-01, -7.8147e-01,  ..., -4.2109e-01,\n",
       "           1.0925e+00, -4.8456e-02]]], grad_fn=<NativeLayerNormBackward0>), pooler_output=tensor([[-0.6856,  0.5262,  1.0000,  ...,  1.0000, -0.6112,  0.9971],\n",
       "        [-0.6055,  0.4997,  0.9998,  ...,  0.9999, -0.6753,  0.9769],\n",
       "        [-0.7702,  0.5447,  0.9999,  ...,  1.0000, -0.4655,  0.9894]],\n",
       "       grad_fn=<TanhBackward0>), hidden_states=None, past_key_values=None, attentions=None, cross_attentions=None)"
      ]
     },
     "execution_count": 8,
     "metadata": {},
     "output_type": "execute_result"
    }
   ],
   "source": [
    "# the output of our tensor\n",
    "output = model(model_inputs)\n",
    "output"
   ]
  }
 ],
 "metadata": {
  "kernelspec": {
   "display_name": "Python 3 (ipykernel)",
   "language": "python",
   "name": "python3"
  },
  "language_info": {
   "codemirror_mode": {
    "name": "ipython",
    "version": 3
   },
   "file_extension": ".py",
   "mimetype": "text/x-python",
   "name": "python",
   "nbconvert_exporter": "python",
   "pygments_lexer": "ipython3",
   "version": "3.9.16"
  }
 },
 "nbformat": 4,
 "nbformat_minor": 5
}
