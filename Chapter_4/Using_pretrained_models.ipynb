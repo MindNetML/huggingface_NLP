{
 "cells": [
  {
   "cell_type": "code",
   "execution_count": 1,
   "id": "e8087189-fd16-464c-a6ec-6c34e0f3095e",
   "metadata": {
    "jupyter": {
     "source_hidden": true
    },
    "tags": []
   },
   "outputs": [
    {
     "name": "stdout",
     "output_type": "stream",
     "text": [
      "\u001b[33mWARNING: Running pip as the 'root' user can result in broken permissions and conflicting behaviour with the system package manager. It is recommended to use a virtual environment instead: https://pip.pypa.io/warnings/venv\u001b[0m\u001b[33m\n",
      "\u001b[0m\u001b[33mWARNING: Running pip as the 'root' user can result in broken permissions and conflicting behaviour with the system package manager. It is recommended to use a virtual environment instead: https://pip.pypa.io/warnings/venv\u001b[0m\u001b[33m\n",
      "\u001b[0m\u001b[33mWARNING: Running pip as the 'root' user can result in broken permissions and conflicting behaviour with the system package manager. It is recommended to use a virtual environment instead: https://pip.pypa.io/warnings/venv\u001b[0m\u001b[33m\n",
      "\u001b[0m"
     ]
    }
   ],
   "source": [
    "!pip install -q --upgrade transformers torch torchvision torchaudio\n",
    "!pip install -q tokenizers==0.13.3 evaluate\n",
    "!pip install -q bitsandbytes transformers accelerate gradio thread6"
   ]
  },
  {
   "cell_type": "markdown",
   "id": "75a3da91-7ceb-4858-a94b-cd79a9648ccc",
   "metadata": {},
   "source": [
    "#### The model hub makes it easy to select a model in a few lines of code.\n",
    "- We'll use a French-based model that can perform mask filling"
   ]
  },
  {
   "cell_type": "code",
   "execution_count": 4,
   "id": "4ed1db23-f2af-4221-ac62-ca77be98243a",
   "metadata": {},
   "outputs": [
    {
     "name": "stderr",
     "output_type": "stream",
     "text": [
      "Some weights of the model checkpoint at camembert-base were not used when initializing CamembertForMaskedLM: ['roberta.pooler.dense.bias', 'roberta.pooler.dense.weight']\n",
      "- This IS expected if you are initializing CamembertForMaskedLM from the checkpoint of a model trained on another task or with another architecture (e.g. initializing a BertForSequenceClassification model from a BertForPreTraining model).\n",
      "- This IS NOT expected if you are initializing CamembertForMaskedLM from the checkpoint of a model that you expect to be exactly identical (initializing a BertForSequenceClassification model from a BertForSequenceClassification model).\n"
     ]
    },
    {
     "data": {
      "text/plain": [
       "[{'score': 0.44916898012161255,\n",
       "  'token': 7200,\n",
       "  'token_str': 'délicieux',\n",
       "  'sequence': 'le camembert est délicieux :)'},\n",
       " {'score': 0.17824025452136993,\n",
       "  'token': 2183,\n",
       "  'token_str': 'excellent',\n",
       "  'sequence': 'le camembert est excellent :)'},\n",
       " {'score': 0.045791514217853546,\n",
       "  'token': 26202,\n",
       "  'token_str': 'succulent',\n",
       "  'sequence': 'le camembert est succulent :)'},\n",
       " {'score': 0.03694493696093559,\n",
       "  'token': 1654,\n",
       "  'token_str': 'parfait',\n",
       "  'sequence': 'le camembert est parfait :)'},\n",
       " {'score': 0.026788370683789253,\n",
       "  'token': 528,\n",
       "  'token_str': 'meilleur',\n",
       "  'sequence': 'le camembert est meilleur :)'}]"
      ]
     },
     "execution_count": 4,
     "metadata": {},
     "output_type": "execute_result"
    }
   ],
   "source": [
    "# we'll select the camembert-base checkpoint to try it out\n",
    "# we'll instatiate it using a pipeline\n",
    "from transformers import pipeline\n",
    "\n",
    "camembert_fill_mask = pipeline('fill-mask', model = 'camembert-base')\n",
    "results = camembert_fill_mask(\"le camembert est <mask> :)\")\n",
    "results"
   ]
  },
  {
   "cell_type": "markdown",
   "id": "4098ca53-3472-45b0-aab1-c2328fb6b78c",
   "metadata": {},
   "source": [
    "#### Loading a model with a pipeline is easy and simple\n",
    "- You need to watch that the checkpoint is suitable for the task its going to be used for.\n",
    "- Its fine to use the current model for 'fill-mask' but if we were to use it for 'text-classification' the result would not make any sense because the head of the 'camembert-base' is not sutable for this task"
   ]
  },
  {
   "cell_type": "code",
   "execution_count": 5,
   "id": "5447c3a5-f07c-4f7b-8427-17e1cc2774f3",
   "metadata": {},
   "outputs": [
    {
     "name": "stderr",
     "output_type": "stream",
     "text": [
      "Some weights of the model checkpoint at camembert-base were not used when initializing CamembertForMaskedLM: ['roberta.pooler.dense.bias', 'roberta.pooler.dense.weight']\n",
      "- This IS expected if you are initializing CamembertForMaskedLM from the checkpoint of a model trained on another task or with another architecture (e.g. initializing a BertForSequenceClassification model from a BertForPreTraining model).\n",
      "- This IS NOT expected if you are initializing CamembertForMaskedLM from the checkpoint of a model that you expect to be exactly identical (initializing a BertForSequenceClassification model from a BertForSequenceClassification model).\n"
     ]
    }
   ],
   "source": [
    "# You can instantiate the checkpoint using the model architecture directly:\n",
    "from transformers import CamembertTokenizer, CamembertForMaskedLM\n",
    "\n",
    "tokenizer = CamembertTokenizer.from_pretrained(\"camembert-base\")\n",
    "model = CamembertForMaskedLM.from_pretrained(\"camembert-base\")"
   ]
  },
  {
   "cell_type": "markdown",
   "id": "bdb6dee3-8bd1-4fc7-8576-97e34186fb6a",
   "metadata": {},
   "source": [
    "#### However, we recommend using 'Auto* classes' instead.\n",
    "- They are by design architecture-agnostic.\n",
    "- The previous code limits users to checkpoints loadable in the CamemBERT architecture, using the 'Auto*' classes makes switching checkpoints simple"
   ]
  },
  {
   "cell_type": "code",
   "execution_count": 6,
   "id": "4526de61-4e27-402c-859f-bd4db07c48d3",
   "metadata": {},
   "outputs": [
    {
     "name": "stderr",
     "output_type": "stream",
     "text": [
      "Some weights of the model checkpoint at camembert-base were not used when initializing CamembertForMaskedLM: ['roberta.pooler.dense.bias', 'roberta.pooler.dense.weight']\n",
      "- This IS expected if you are initializing CamembertForMaskedLM from the checkpoint of a model trained on another task or with another architecture (e.g. initializing a BertForSequenceClassification model from a BertForPreTraining model).\n",
      "- This IS NOT expected if you are initializing CamembertForMaskedLM from the checkpoint of a model that you expect to be exactly identical (initializing a BertForSequenceClassification model from a BertForSequenceClassification model).\n"
     ]
    }
   ],
   "source": [
    "from transformers import AutoTokenizer, AutoModelForMaskedLM\n",
    "\n",
    "tokenizer = AutoTokenizer.from_pretrained(\"camembert-base\")\n",
    "model = AutoModelForMaskedLM.from_pretrained(\"camembert-base\")"
   ]
  }
 ],
 "metadata": {
  "kernelspec": {
   "display_name": "Python 3 (ipykernel)",
   "language": "python",
   "name": "python3"
  },
  "language_info": {
   "codemirror_mode": {
    "name": "ipython",
    "version": 3
   },
   "file_extension": ".py",
   "mimetype": "text/x-python",
   "name": "python",
   "nbconvert_exporter": "python",
   "pygments_lexer": "ipython3",
   "version": "3.9.16"
  }
 },
 "nbformat": 4,
 "nbformat_minor": 5
}
